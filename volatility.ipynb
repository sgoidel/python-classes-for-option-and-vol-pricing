{
 "cells": [
  {
   "cell_type": "code",
   "execution_count": 8,
   "metadata": {},
   "outputs": [],
   "source": [
    "\n",
    "import numpy as np\n",
    "import pandas as pd\n",
    "\n",
    "class VolatilityCalculator:\n",
    "    \"\"\"\n",
    "    Calculate historical volatility from a price series.\n",
    "    \"\"\"\n",
    "    def __init__(self, prices, trading_days_per_year=252):\n",
    "        # Accept list, numpy array, or pandas Series\n",
    "        self.prices = pd.Series(prices).astype(float)\n",
    "        self.trading_days = trading_days_per_year\n",
    "\n",
    "    def log_returns(self, k=1):\n",
    "        \"\"\"\n",
    "        Compute k-period log returns: ln(P_t / P_{t-k})\n",
    "        \"\"\"\n",
    "        return np.log(self.prices / self.prices.shift(k)).dropna()\n",
    "\n",
    "    def volatility(self, k=1):\n",
    "        \"\"\"\n",
    "        Compute annualized volatility based on k-period log returns.\n",
    "        Annualization factor = sqrt(trading_days_per_year / k).\n",
    "        \"\"\"\n",
    "        returns = self.log_returns(k)\n",
    "        scaling = np.sqrt(self.trading_days / k)\n",
    "        return returns.std(ddof=1) * scaling\n"
   ]
  },
  {
   "cell_type": "code",
   "execution_count": 9,
   "metadata": {},
   "outputs": [],
   "source": [
    "np.random.seed(42)\n",
    "dates = pd.date_range(start=\"2024-01-01\", periods=252, freq=\"B\")\n",
    "mu, sigma = 0.0005, 0.02\n",
    "daily_returns = np.random.normal(loc=mu, scale=sigma, size=len(dates))\n",
    "prices = 100 * np.exp(np.cumsum(daily_returns))\n",
    "\n",
    "df = pd.DataFrame({\n",
    "    \"Price\": prices,\n",
    "    \"LogRet_1d\": np.log(prices / np.roll(prices, 1)),\n",
    "    \"LogRet_5d\": np.log(prices / np.roll(prices, 5))\n",
    "}, index=dates).dropna()"
   ]
  },
  {
   "cell_type": "code",
   "execution_count": null,
   "metadata": {},
   "outputs": [],
   "source": []
  },
  {
   "cell_type": "code",
   "execution_count": 11,
   "metadata": {},
   "outputs": [
    {
     "name": "stdout",
     "output_type": "stream",
     "text": [
      "Annualized daily volatility (k=1): 30.75%\n",
      "Annualized weekly volatility (k=5): 28.23%\n",
      "Annualized monthly volatility (k=21): 29.05%\n"
     ]
    }
   ],
   "source": [
    "\n",
    "\n",
    "vc = VolatilityCalculator(df[\"Price\"])\n",
    "daily_vol = vc.volatility(k=1)\n",
    "weekly_vol = vc.volatility(k=5)\n",
    "monthly_vol = vc.volatility(k=21)\n",
    "\n",
    "print(f\"Annualized daily volatility (k=1): {daily_vol:.2%}\")\n",
    "print(f\"Annualized weekly volatility (k=5): {weekly_vol:.2%}\")\n",
    "print(f\"Annualized monthly volatility (k=21): {monthly_vol:.2%}\")"
   ]
  },
  {
   "cell_type": "code",
   "execution_count": null,
   "metadata": {},
   "outputs": [],
   "source": []
  }
 ],
 "metadata": {
  "kernelspec": {
   "display_name": "python_practice",
   "language": "python",
   "name": "python3"
  },
  "language_info": {
   "codemirror_mode": {
    "name": "ipython",
    "version": 3
   },
   "file_extension": ".py",
   "mimetype": "text/x-python",
   "name": "python",
   "nbconvert_exporter": "python",
   "pygments_lexer": "ipython3",
   "version": "3.10.18"
  },
  "orig_nbformat": 4
 },
 "nbformat": 4,
 "nbformat_minor": 2
}
